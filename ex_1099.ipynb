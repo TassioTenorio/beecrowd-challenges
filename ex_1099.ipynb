{
 "cells": [
  {
   "cell_type": "code",
   "execution_count": 3,
   "metadata": {},
   "outputs": [
    {
     "name": "stdout",
     "output_type": "stream",
     "text": [
      "0\n",
      "11\n",
      "5\n",
      "0\n",
      "0\n",
      "0\n",
      "12\n"
     ]
    }
   ],
   "source": [
    "valor = int(input())\n",
    "\n",
    "impar  = 0\n",
    "for i in range(valor):\n",
    "\tvlr1, vlr2 = map(int,input().split())\n",
    "\tfor a in range(vlr1+1, vlr2):\n",
    "\t\ta = int(a)\n",
    "\t\tif a % 2 != 0:\n",
    "\t\t\timpar += a\n",
    "\tfor a in range(vlr2+1, vlr1):\n",
    "\t\ta = int(a)\n",
    "\t\tif a % 2 != 0:\n",
    "\t\t\timpar += a\n",
    "\tprint(impar)\n",
    "\timpar = 0"
   ]
  }
 ],
 "metadata": {
  "kernelspec": {
   "display_name": "Python 3",
   "language": "python",
   "name": "python3"
  },
  "language_info": {
   "codemirror_mode": {
    "name": "ipython",
    "version": 3
   },
   "file_extension": ".py",
   "mimetype": "text/x-python",
   "name": "python",
   "nbconvert_exporter": "python",
   "pygments_lexer": "ipython3",
   "version": "3.11.5"
  }
 },
 "nbformat": 4,
 "nbformat_minor": 2
}
