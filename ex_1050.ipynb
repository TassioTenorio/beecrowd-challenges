{
 "cells": [
  {
   "cell_type": "code",
   "execution_count": null,
   "metadata": {},
   "outputs": [],
   "source": [
    "numero = int(input('Digite o seu DDD'))\n",
    "\n",
    "\n",
    "lista_destino = [('Brasilia', 61),\n",
    "                 ('Salvador', 71),\n",
    "                 ('Sao Paulo', 11),\n",
    "                 ('Rio de Janeiro',21),\n",
    "                 ('Juiz de Fora',32),\n",
    "                 ('Campinas',19),\n",
    "                 ('Vitoria',27),\n",
    "                 ('Belo Horizonte',31)\n",
    "                ]\n",
    "\n",
    "destino_cidade = ''\n",
    "destino_ddd = 0\n",
    "valor = ''\n",
    "for destino in lista_destino:\n",
    "    cidade, ddd = destino\n",
    "    if numero == ddd:\n",
    "        destino_ddd = numero\n",
    "        destino_cidade = cidade\n",
    "        print(destino_ddd, cidade)\n",
    "\n",
    "\n",
    "if destino_cidade == '':\n",
    "    print('Valor inválido')\n"
   ]
  }
 ],
 "metadata": {
  "kernelspec": {
   "display_name": "Python 3",
   "language": "python",
   "name": "python3"
  },
  "language_info": {
   "codemirror_mode": {
    "name": "ipython",
    "version": 3
   },
   "file_extension": ".py",
   "mimetype": "text/x-python",
   "name": "python",
   "nbconvert_exporter": "python",
   "pygments_lexer": "ipython3",
   "version": "3.11.5"
  }
 },
 "nbformat": 4,
 "nbformat_minor": 2
}
