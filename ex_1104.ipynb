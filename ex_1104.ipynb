{
 "cells": [
  {
   "cell_type": "code",
   "execution_count": 4,
   "metadata": {},
   "outputs": [
    {
     "name": "stdout",
     "output_type": "stream",
     "text": [
      "primeiro\n",
      "quarto\n",
      "terceiro\n",
      "terceiro\n",
      "segundo\n"
     ]
    }
   ],
   "source": [
    "while True:\n",
    "\tcoordinates = input().split()\n",
    "\tx = int(coordinates[0])\n",
    "\ty = int(coordinates[1])\n",
    "\tif x == 0 or y == 0:\n",
    "\t\tbreak\n",
    "\telif x > 0 and y > 0:\n",
    "\t\tprint('primeiro')\n",
    "\telif x < 0 and y < 0:\n",
    "\t\tprint('terceiro')\n",
    "\telif x > 0 and y < 0:\n",
    "\t\tprint('quarto')\n",
    "\telif x < 0 and y > 0:\n",
    "\t\tprint('segundo')\n"
   ]
  },
  {
   "cell_type": "markdown",
   "metadata": {},
   "source": [
    "+x, +y = primeiro quadrante\n",
    "-x, +x = segundo quadrante\n",
    "-x, -x = terceiro quadrante\n",
    "+x, -x = quarto quadrante\n",
    "\n"
   ]
  }
 ],
 "metadata": {
  "kernelspec": {
   "display_name": "Python 3",
   "language": "python",
   "name": "python3"
  },
  "language_info": {
   "codemirror_mode": {
    "name": "ipython",
    "version": 3
   },
   "file_extension": ".py",
   "mimetype": "text/x-python",
   "name": "python",
   "nbconvert_exporter": "python",
   "pygments_lexer": "ipython3",
   "version": "3.11.5"
  }
 },
 "nbformat": 4,
 "nbformat_minor": 2
}
