{
 "cells": [
  {
   "cell_type": "code",
   "execution_count": 2,
   "metadata": {},
   "outputs": [
    {
     "name": "stdout",
     "output_type": "stream",
     "text": [
      "Senha Invalida\n",
      "Senha Invalida\n",
      "Senha Invalida\n",
      "Acesso Permitido\n"
     ]
    }
   ],
   "source": [
    "while True:\n",
    "\tpassword = int(input())\n",
    "\tif password == 2002:\n",
    "\t\tprint('Acesso Permitido')\n",
    "\t\tbreak\n",
    "\telse:\n",
    "\t\tprint('Senha Invalida')"
   ]
  }
 ],
 "metadata": {
  "kernelspec": {
   "display_name": "Python 3",
   "language": "python",
   "name": "python3"
  },
  "language_info": {
   "codemirror_mode": {
    "name": "ipython",
    "version": 3
   },
   "file_extension": ".py",
   "mimetype": "text/x-python",
   "name": "python",
   "nbconvert_exporter": "python",
   "pygments_lexer": "ipython3",
   "version": "3.11.5"
  }
 },
 "nbformat": 4,
 "nbformat_minor": 2
}
