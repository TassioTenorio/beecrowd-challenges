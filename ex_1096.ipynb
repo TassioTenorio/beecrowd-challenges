{
 "cells": [
  {
   "cell_type": "code",
   "execution_count": 29,
   "metadata": {},
   "outputs": [
    {
     "name": "stdout",
     "output_type": "stream",
     "text": [
      "I=1 J=7\n",
      "I=1 J=6\n",
      "I=1 J=5\n",
      "I=3 J=7\n",
      "I=3 J=6\n",
      "I=3 J=5\n",
      "I=5 J=7\n",
      "I=5 J=6\n",
      "I=5 J=5\n",
      "I=7 J=7\n",
      "I=7 J=6\n",
      "I=7 J=5\n",
      "I=9 J=7\n",
      "I=9 J=6\n",
      "I=9 J=5\n"
     ]
    }
   ],
   "source": [
    "j = 7\n",
    "k = 6\n",
    "l = 5\n",
    "\n",
    "i = 1\n",
    "for a in range(5):\n",
    "\tprint(f'I={i} J={j}')\n",
    "\tprint(f'I={i} J={k}')\n",
    "\tprint(f'I={i} J={l}')\n",
    "\ti = i + 2"
   ]
  }
 ],
 "metadata": {
  "kernelspec": {
   "display_name": "Python 3",
   "language": "python",
   "name": "python3"
  },
  "language_info": {
   "codemirror_mode": {
    "name": "ipython",
    "version": 3
   },
   "file_extension": ".py",
   "mimetype": "text/x-python",
   "name": "python",
   "nbconvert_exporter": "python",
   "pygments_lexer": "ipython3",
   "version": "3.11.5"
  }
 },
 "nbformat": 4,
 "nbformat_minor": 2
}
