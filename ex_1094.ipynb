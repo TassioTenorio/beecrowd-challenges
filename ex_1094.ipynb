{
 "cells": [
  {
   "cell_type": "code",
   "execution_count": 12,
   "metadata": {},
   "outputs": [
    {
     "name": "stdout",
     "output_type": "stream",
     "text": [
      "Total: 92 cobaias\n",
      "Total de coelhos: 29\n",
      "Total de ratos: 40\n",
      "Total de sapos: 23\n",
      "Percentual de coelhos: 31.52 %\n",
      "Percentual de ratos: 43.48 %\n",
      "Percentual de sapos: 25.00 %\n"
     ]
    }
   ],
   "source": [
    "# quantas cobaias foram utilizadas no laboratório\n",
    "qtde_cobaias = (int(input()))\n",
    "coelhos = 0\n",
    "ratos = 0\n",
    "sapos = 0\n",
    "\n",
    "for i in range(qtde_cobaias):\n",
    "\tqtde, cobaia = input().split()\n",
    "\tqtde = int(qtde)\n",
    "\tif 'C' in cobaia or 'c' in cobaia:\n",
    "\t\tcoelhos += qtde\n",
    "\telif 'R' in cobaia or 'r' in cobaia:\n",
    "\t\tratos += qtde\n",
    "\telif 'S' in cobaia or 's' in cobaia:\n",
    "\t\tsapos += qtde\n",
    "\n",
    "\t# o percentual de cada tipo de cobaia\n",
    "total_cobaias = coelhos + ratos + sapos\n",
    "perce_coelhos = (coelhos * 100) / total_cobaias\n",
    "perce_ratos = (ratos * 100) / total_cobaias\n",
    "perce_sapos = (sapos * 100) / total_cobaias\n",
    "\n",
    "print(f'Total: {total_cobaias} cobaias')\n",
    "print(f'Total de coelhos: {coelhos}')\n",
    "print(f'Total de ratos: {ratos}')\n",
    "print(f'Total de sapos: {sapos}')\n",
    "\n",
    "print(f'Percentual de coelhos: {perce_coelhos:.2f} %')\n",
    "print(f'Percentual de ratos: {perce_ratos:.2f} %')\n",
    "print(f'Percentual de sapos: {perce_sapos:.2f} %')\n",
    "\n",
    "\n",
    "\n",
    "# sapos\n",
    "\n",
    "# ratos\n",
    "\n",
    "# coelhos\n",
    "\n",
    "\n"
   ]
  },
  {
   "cell_type": "code",
   "execution_count": null,
   "metadata": {},
   "outputs": [],
   "source": []
  }
 ],
 "metadata": {
  "kernelspec": {
   "display_name": "Python 3",
   "language": "python",
   "name": "python3"
  },
  "language_info": {
   "codemirror_mode": {
    "name": "ipython",
    "version": 3
   },
   "file_extension": ".py",
   "mimetype": "text/x-python",
   "name": "python",
   "nbconvert_exporter": "python",
   "pygments_lexer": "ipython3",
   "version": "3.11.5"
  }
 },
 "nbformat": 4,
 "nbformat_minor": 2
}
