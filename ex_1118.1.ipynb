{
 "cells": [
  {
   "cell_type": "code",
   "execution_count": 3,
   "metadata": {},
   "outputs": [
    {
     "name": "stdout",
     "output_type": "stream",
     "text": [
      "nota invalida\n",
      "nota invalida\n",
      "6.75\n",
      "novo calculo (1-sim 2-não)\n",
      "4.5\n",
      "novo calculo (1-sim 2-não)\n"
     ]
    },
    {
     "ename": "ValueError",
     "evalue": "invalid literal for int() with base 10: ''",
     "output_type": "error",
     "traceback": [
      "\u001b[1;31m---------------------------------------------------------------------------\u001b[0m",
      "\u001b[1;31mValueError\u001b[0m                                Traceback (most recent call last)",
      "\u001b[1;32mc:\\Users\\Tassio\\Desktop\\beecrownd\\beecrowd-challenges\\1118.ipynb Cell 1\u001b[0m line \u001b[0;36m8\n\u001b[0;32m     <a href='vscode-notebook-cell:/c%3A/Users/Tassio/Desktop/beecrownd/beecrowd-challenges/1118.ipynb#W2sZmlsZQ%3D%3D?line=78'>79</a>\u001b[0m novo_calculo \u001b[39m=\u001b[39m \u001b[39m0\u001b[39m\n\u001b[0;32m     <a href='vscode-notebook-cell:/c%3A/Users/Tassio/Desktop/beecrownd/beecrowd-challenges/1118.ipynb#W2sZmlsZQ%3D%3D?line=79'>80</a>\u001b[0m \u001b[39mprint\u001b[39m(\u001b[39m'\u001b[39m\u001b[39mnovo calculo (1-sim 2-não)\u001b[39m\u001b[39m'\u001b[39m)\n\u001b[1;32m---> <a href='vscode-notebook-cell:/c%3A/Users/Tassio/Desktop/beecrownd/beecrowd-challenges/1118.ipynb#W2sZmlsZQ%3D%3D?line=80'>81</a>\u001b[0m novo_calculo \u001b[39m=\u001b[39m \u001b[39mint\u001b[39;49m(\u001b[39minput\u001b[39;49m())\n\u001b[0;32m     <a href='vscode-notebook-cell:/c%3A/Users/Tassio/Desktop/beecrownd/beecrowd-challenges/1118.ipynb#W2sZmlsZQ%3D%3D?line=81'>82</a>\u001b[0m \u001b[39mif\u001b[39;00m novo_calculo \u001b[39m==\u001b[39m \u001b[39m1\u001b[39m:\n\u001b[0;32m     <a href='vscode-notebook-cell:/c%3A/Users/Tassio/Desktop/beecrownd/beecrowd-challenges/1118.ipynb#W2sZmlsZQ%3D%3D?line=82'>83</a>\u001b[0m \t\u001b[39mcontinue\u001b[39;00m\n",
      "\u001b[1;31mValueError\u001b[0m: invalid literal for int() with base 10: ''"
     ]
    }
   ],
   "source": [
    "\n",
    "while True:\n",
    "\tnota = 0\n",
    "\tqtde_notas = 0\n",
    "\twhile qtde_notas < 2:\n",
    "\t\tnotas = float(input('Digite a nota:'))\n",
    "\t\tif notas >=0 and notas<=10:\n",
    "\t\t\tnota += notas\n",
    "\t\t\tqtde_notas +=1\n",
    "\t\telse:\n",
    "\t\t\tprint('nota invalida')\n",
    "\t\tmedia = nota / 2\n",
    "\tprint(media)\n",
    "\tnovo_calculo = 0\n",
    "\tprint('novo calculo (1-sim 2-não)')\n",
    "\tnovo_calculo = int(input())\n",
    "\tif novo_calculo == 1:\n",
    "\t\tcontinue\n",
    "\telif novo_calculo == 2:\n",
    "\t\tbreak\n",
    "\n",
    "\n",
    "\n",
    "\t\n",
    "\n",
    "\n",
    "\n",
    "\n"
   ]
  }
 ],
 "metadata": {
  "kernelspec": {
   "display_name": "Python 3",
   "language": "python",
   "name": "python3"
  },
  "language_info": {
   "codemirror_mode": {
    "name": "ipython",
    "version": 3
   },
   "file_extension": ".py",
   "mimetype": "text/x-python",
   "name": "python",
   "nbconvert_exporter": "python",
   "pygments_lexer": "ipython3",
   "version": "3.11.5"
  }
 },
 "nbformat": 4,
 "nbformat_minor": 2
}
