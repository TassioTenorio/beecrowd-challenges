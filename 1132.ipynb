{
 "cells": [
  {
   "cell_type": "markdown",
   "metadata": {},
   "source": [
    "beecrowd | 1132\n",
    "Múltiplos de 13\n",
    "Adaptado por Neilor Tonin, URI  Brasil\n",
    "\n",
    "Timelimit: 1\n",
    "Escreva um algoritmo que leia 2 valores inteiros X e Y calcule a soma dos números que não são múltiplos de 13 entre X e Y, incluindo ambos.\n",
    "\n",
    "Entrada\n",
    "O arquivo de entrada contém 2 valores inteiros quaisquer, não necessariamente em ordem crescente.\n",
    "\n",
    "Saída\n",
    "Imprima a soma de todos os valores não divisíveis por 13 entre os dois valores lidos na entrada, inclusive ambos se for o caso.\n",
    "\n",
    "Sample Input\tSample Output\n",
    "100\n",
    "200\n",
    "\n",
    "13954\n",
    "Agradecimentos a Cássio F."
   ]
  },
  {
   "cell_type": "code",
   "execution_count": null,
   "metadata": {},
   "outputs": [],
   "source": [
    "x = int(input())\n",
    "y = int(input())\n",
    "\n",
    "sum = 0\n",
    "for i in range(x, y+1):\n",
    "\tif i%13 == 0:\n",
    "\t\tpass\n",
    "\telse:\n",
    "\t\tsum += i\n",
    "for i in range(y, x+1):\n",
    "\tif i%13 == 0:\n",
    "\t\tpass\n",
    "\telse:\n",
    "\t\tsum += i\n",
    "print(sum)\n"
   ]
  }
 ],
 "metadata": {
  "kernelspec": {
   "display_name": "Python 3",
   "language": "python",
   "name": "python3"
  },
  "language_info": {
   "codemirror_mode": {
    "name": "ipython",
    "version": 3
   },
   "file_extension": ".py",
   "mimetype": "text/x-python",
   "name": "python",
   "nbconvert_exporter": "python",
   "pygments_lexer": "ipython3",
   "version": "3.11.5"
  }
 },
 "nbformat": 4,
 "nbformat_minor": 2
}
