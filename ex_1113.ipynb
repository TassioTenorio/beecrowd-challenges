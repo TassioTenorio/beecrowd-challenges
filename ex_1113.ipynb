{
 "cells": [
  {
   "cell_type": "code",
   "execution_count": 29,
   "metadata": {},
   "outputs": [
    {
     "name": "stdout",
     "output_type": "stream",
     "text": [
      "Decrescente\n",
      "Decrescente\n"
     ]
    }
   ],
   "source": [
    "\n",
    "while True:\n",
    "\tvalues = input().split()\n",
    "\tvalueA = max(values)\n",
    "\tvalueB = min(values)\n",
    "\tvalueA = int(values[0])\n",
    "\tvalueB = int(values[1])\n",
    "\tif valueA == valueB:\n",
    "\t\t\tbreak\n",
    "\tif valueA < valueB:\n",
    "\t\tprint('Crescente')\n",
    "\telse:\n",
    "\t\tprint('Decrescente')\n",
    "\t\n"
   ]
  }
 ],
 "metadata": {
  "kernelspec": {
   "display_name": "Python 3",
   "language": "python",
   "name": "python3"
  },
  "language_info": {
   "codemirror_mode": {
    "name": "ipython",
    "version": 3
   },
   "file_extension": ".py",
   "mimetype": "text/x-python",
   "name": "python",
   "nbconvert_exporter": "python",
   "pygments_lexer": "ipython3",
   "version": "3.11.5"
  }
 },
 "nbformat": 4,
 "nbformat_minor": 2
}
