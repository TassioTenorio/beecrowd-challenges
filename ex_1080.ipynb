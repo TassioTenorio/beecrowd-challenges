{
 "cells": [
  {
   "cell_type": "code",
   "execution_count": 5,
   "metadata": {},
   "outputs": [
    {
     "name": "stdout",
     "output_type": "stream",
     "text": [
      "34565\n",
      "4\n"
     ]
    }
   ],
   "source": [
    "\n",
    "valor = 0\n",
    "posicao = 0\n",
    "for i in range(1,5):\n",
    "\tvalores2 = int(input('Digite os valores'))\n",
    "\tif valores2 > valor:\n",
    "\t\tvalor = valores2\n",
    "\t\tposicao = i\n",
    "\n",
    "print(valor)\n",
    "print(posicao)"
   ]
  }
 ],
 "metadata": {
  "kernelspec": {
   "display_name": "Python 3",
   "language": "python",
   "name": "python3"
  },
  "language_info": {
   "codemirror_mode": {
    "name": "ipython",
    "version": 3
   },
   "file_extension": ".py",
   "mimetype": "text/x-python",
   "name": "python",
   "nbconvert_exporter": "python",
   "pygments_lexer": "ipython3",
   "version": "3.11.5"
  }
 },
 "nbformat": 4,
 "nbformat_minor": 2
}
