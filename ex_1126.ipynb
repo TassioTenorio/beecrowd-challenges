{
 "cells": [
  {
   "cell_type": "code",
   "execution_count": 22,
   "metadata": {},
   "outputs": [
    {
     "ename": "ZeroDivisionError",
     "evalue": "float division by zero",
     "output_type": "error",
     "traceback": [
      "\u001b[1;31m---------------------------------------------------------------------------\u001b[0m",
      "\u001b[1;31mZeroDivisionError\u001b[0m                         Traceback (most recent call last)",
      "\u001b[1;32mc:\\Users\\Tassio\\Desktop\\beecrownd\\beecrowd-challenges\\ex_1126.ipynb Cell 1\u001b[0m line \u001b[0;36m1\n\u001b[0;32m      <a href='vscode-notebook-cell:/c%3A/Users/Tassio/Desktop/beecrownd/beecrowd-challenges/ex_1126.ipynb#W0sZmlsZQ%3D%3D?line=7'>8</a>\u001b[0m \t\u001b[39mprint\u001b[39m(\u001b[39m'\u001b[39m\u001b[39mdivisao impossivel\u001b[39m\u001b[39m'\u001b[39m)\n\u001b[0;32m      <a href='vscode-notebook-cell:/c%3A/Users/Tassio/Desktop/beecrownd/beecrowd-challenges/ex_1126.ipynb#W0sZmlsZQ%3D%3D?line=8'>9</a>\u001b[0m \t\u001b[39mcontinue\u001b[39;00m\n\u001b[1;32m---> <a href='vscode-notebook-cell:/c%3A/Users/Tassio/Desktop/beecrownd/beecrowd-challenges/ex_1126.ipynb#W0sZmlsZQ%3D%3D?line=9'>10</a>\u001b[0m result \u001b[39m=\u001b[39m numb1\u001b[39m/\u001b[39;49mnumb2\n\u001b[0;32m     <a href='vscode-notebook-cell:/c%3A/Users/Tassio/Desktop/beecrownd/beecrowd-challenges/ex_1126.ipynb#W0sZmlsZQ%3D%3D?line=10'>11</a>\u001b[0m \u001b[39mprint\u001b[39m(result)\n",
      "\u001b[1;31mZeroDivisionError\u001b[0m: float division by zero"
     ]
    }
   ],
   "source": [
    "number_of_divisions = int(input())\n",
    "\n",
    "for i in range(number_of_divisions):\n",
    "\tnumbers = input().split()\n",
    "\tnumb1 = float(numbers[0])\n",
    "\tnumb2 = float(numbers[1])\n",
    "\tif numb1 < 0:\n",
    "\t\tprint('divisao impossivel')\n",
    "\t\tcontinue\n",
    "\tif numb2 == 0:\n",
    "\t\tprint('divisao impossivel')\n",
    "\t\tcontinue\n",
    "\tresult = numb1/numb2\n",
    "\tprint(result)"
   ]
  }
 ],
 "metadata": {
  "kernelspec": {
   "display_name": "Python 3",
   "language": "python",
   "name": "python3"
  },
  "language_info": {
   "codemirror_mode": {
    "name": "ipython",
    "version": 3
   },
   "file_extension": ".py",
   "mimetype": "text/x-python",
   "name": "python",
   "nbconvert_exporter": "python",
   "pygments_lexer": "ipython3",
   "version": "3.11.5"
  }
 },
 "nbformat": 4,
 "nbformat_minor": 2
}
