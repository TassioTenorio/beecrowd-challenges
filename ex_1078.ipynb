{
 "cells": [
  {
   "cell_type": "code",
   "execution_count": 3,
   "metadata": {},
   "outputs": [
    {
     "name": "stdout",
     "output_type": "stream",
     "text": [
      "1 X 140 = 140\n",
      "2 X 140 = 280\n",
      "3 X 140 = 420\n",
      "4 X 140 = 560\n",
      "5 X 140 = 700\n",
      "6 X 140 = 840\n",
      "7 X 140 = 980\n",
      "8 X 140 = 1120\n",
      "9 X 140 = 1260\n",
      "10 X 140 = 1400\n"
     ]
    }
   ],
   "source": [
    "valor = int(input('Digite um valor para calcular'))\n",
    "\n",
    "for i in range(1, 11):\n",
    "\tprint(f'{i} X {valor} = {i * valor}' )"
   ]
  }
 ],
 "metadata": {
  "kernelspec": {
   "display_name": "Python 3",
   "language": "python",
   "name": "python3"
  },
  "language_info": {
   "codemirror_mode": {
    "name": "ipython",
    "version": 3
   },
   "file_extension": ".py",
   "mimetype": "text/x-python",
   "name": "python",
   "nbconvert_exporter": "python",
   "pygments_lexer": "ipython3",
   "version": "3.11.5"
  }
 },
 "nbformat": 4,
 "nbformat_minor": 2
}
