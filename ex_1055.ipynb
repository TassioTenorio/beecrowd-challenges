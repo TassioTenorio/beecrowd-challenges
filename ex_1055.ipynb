{
 "cells": [
  {
   "cell_type": "code",
   "execution_count": null,
   "metadata": {},
   "outputs": [],
   "source": []
  },
  {
   "cell_type": "code",
   "execution_count": 4,
   "metadata": {},
   "outputs": [
    {
     "name": "stdout",
     "output_type": "stream",
     "text": [
      "3 dia(s)\n",
      "22 hora(s)\n",
      "1 minuto(s)\n",
      "0 segundo(s)\n"
     ]
    }
   ],
   "source": [
    "\n",
    "dia1 = int(input().split()[1]) # O split vai separar o Dia do numero ex. Dia 10 e o [1] é para recuperar o  numero ex. 10\n",
    "h1, m1, s1 = map(int, input().split(\":\")) # quando coloco algo com \":\" no split ele separa por esse caractere\n",
    "tempo_inicial = s1 + m1 * 60 + h1 * 60 * 60 + dia1 * 24 * 60 *60\n",
    "\n",
    "dia2 = int(input().split()[1])\n",
    "h2, m2, s2 = map(int, input().split(\":\"))\n",
    "tempo_final = s2 + m2 * 60 + h2 * 60 * 60 + dia2 * 24 * 60 *60\n",
    "\n",
    "dif = tempo_final - tempo_inicial\n",
    "dia = dif//(24*60*60)\n",
    "dif = dif%(24*60*60)\n",
    "\n",
    "hora = dif//(60*60)\n",
    "dif = dif%(60*60)\n",
    "\n",
    "minuto = dif//(60)\n",
    "dif = dif%(60)\n",
    "\n",
    "segundo = dif\n",
    "\n",
    "print(f\"{dia} dia(s)\")\n",
    "print(f\"{hora} hora(s)\")\n",
    "print(f\"{minuto} minuto(s)\")\n",
    "print(f\"{segundo} segundo(s)\")\n",
    "\n"
   ]
  },
  {
   "cell_type": "code",
   "execution_count": 17,
   "metadata": {},
   "outputs": [
    {
     "name": "stdout",
     "output_type": "stream",
     "text": [
      "3 dia(s)\n",
      "22 hora(s)\n",
      "1 minuto(s)\n",
      "0 segundo(s)\n"
     ]
    }
   ],
   "source": [
    "dia = int(input().split()[1])\n",
    "hora, minuto, segundo = map(int,input().split(':'))\n",
    "tempo_inicial = hora * 60 * 60 + minuto * 60 + segundo + dia * 24 * 60 * 60\n",
    "\n",
    "dia2 = int(input().split()[1])\n",
    "hora2, minuto2, segundo2 = map(int,input().split(':'))\n",
    "tempo_final = hora2 * 60 * 60 + minuto2 * 60 + segundo2 + dia2 * 24 * 60 * 60\n",
    "\n",
    "diferenca = tempo_final - tempo_inicial\n",
    "\n",
    "dia = diferenca // (60*60*24)\n",
    "dif = diferenca % (60*60*24)\n",
    "\n",
    "hora = dif // (60*60)\n",
    "dif = dif % (60*60)\n",
    "\n",
    "minuto = dif // 60\n",
    "dif = dif % 60\n",
    "\n",
    "segundo = dif\n",
    "\n",
    "print('{} dia(s)'.format(dia))\n",
    "print('{} hora(s)'.format(hora))\n",
    "print('{} minuto(s)'.format(minuto))\n",
    "print('{} segundo(s)'.format(segundo))\n",
    "\n",
    "\n",
    "\n"
   ]
  }
 ],
 "metadata": {
  "kernelspec": {
   "display_name": "Python 3",
   "language": "python",
   "name": "python3"
  },
  "language_info": {
   "codemirror_mode": {
    "name": "ipython",
    "version": 3
   },
   "file_extension": ".py",
   "mimetype": "text/x-python",
   "name": "python",
   "nbconvert_exporter": "python",
   "pygments_lexer": "ipython3",
   "version": "3.11.5"
  }
 },
 "nbformat": 4,
 "nbformat_minor": 2
}
