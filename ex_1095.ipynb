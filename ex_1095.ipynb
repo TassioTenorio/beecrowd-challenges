{
 "cells": [
  {
   "cell_type": "code",
   "execution_count": 16,
   "metadata": {},
   "outputs": [
    {
     "name": "stdout",
     "output_type": "stream",
     "text": [
      "I=1 J=60\n",
      "I=4 J=55\n",
      "I=7 J=50\n",
      "I=10 J=45\n",
      "I=13 J=40\n",
      "I=16 J=35\n",
      "I=19 J=30\n",
      "I=22 J=25\n",
      "I=25 J=20\n",
      "I=28 J=15\n",
      "I=31 J=10\n",
      "I=34 J=5\n",
      "I=37 J=0\n"
     ]
    }
   ],
   "source": [
    "I = 1\n",
    "\n",
    "for i in range(60, -5, -5):\n",
    "\tprint(f'I={I} J={i}')\n",
    "\tI +=3\n"
   ]
  }
 ],
 "metadata": {
  "kernelspec": {
   "display_name": "Python 3",
   "language": "python",
   "name": "python3"
  },
  "language_info": {
   "codemirror_mode": {
    "name": "ipython",
    "version": 3
   },
   "file_extension": ".py",
   "mimetype": "text/x-python",
   "name": "python",
   "nbconvert_exporter": "python",
   "pygments_lexer": "ipython3",
   "version": "3.11.5"
  }
 },
 "nbformat": 4,
 "nbformat_minor": 2
}
