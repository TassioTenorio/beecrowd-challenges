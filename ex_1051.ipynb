{
 "cells": [
  {
   "cell_type": "code",
   "execution_count": 24,
   "metadata": {},
   "outputs": [
    {
     "name": "stdout",
     "output_type": "stream",
     "text": [
      "R$ 80.36\n"
     ]
    }
   ],
   "source": [
    "salario = float(input())\n",
    "imposto = 0\n",
    "imposto_2 = 0\n",
    "imposto_3 = 0\n",
    "\n",
    "if (salario < 2000):\n",
    "    imposto = 0\n",
    "    print('Isento')\n",
    "elif (salario > 2000 and salario <=  3000):\n",
    "    imposto = (salario - 2000) * 0.08\n",
    "    print('R$ {:.2f}'.format(imposto))\n",
    "if (salario > 3000 and salario <= 4500):\n",
    "\timposto = (3000 - 2000) * 0.08\n",
    "\timposto_2 = (salario - 3000)  * 0.18\n",
    "\tprint('R$ {:.2f}'.format(imposto + imposto_2))\n",
    "elif (salario > 4500):\n",
    "    imposto = (3000 - 2000) * 0.08\n",
    "    imposto_2 = (4500 - 3000) * 0.18\n",
    "    imposto_3 = (salario - 4500) * 0.28\n",
    "    print('R$ {:.2f}'.format(imposto + imposto_2 + imposto_3))\n",
    "    \n",
    "\n",
    "\n",
    "    \n",
    "\n",
    "    "
   ]
  }
 ],
 "metadata": {
  "kernelspec": {
   "display_name": "Python 3",
   "language": "python",
   "name": "python3"
  },
  "language_info": {
   "codemirror_mode": {
    "name": "ipython",
    "version": 3
   },
   "file_extension": ".py",
   "mimetype": "text/x-python",
   "name": "python",
   "nbconvert_exporter": "python",
   "pygments_lexer": "ipython3",
   "version": "3.11.5"
  }
 },
 "nbformat": 4,
 "nbformat_minor": 2
}
