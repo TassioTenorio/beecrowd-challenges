{
 "cells": [
  {
   "cell_type": "code",
   "execution_count": 10,
   "metadata": {},
   "outputs": [
    {
     "name": "stdout",
     "output_type": "stream",
     "text": [
      "24\n"
     ]
    }
   ],
   "source": [
    "x = int(input())\n",
    "y = int(input())\n",
    "\n",
    "soma = 0\n",
    "if x > y :\n",
    "\tfor i in range(y + 1, x):\n",
    "\t\tif (i % 2) != 0:\n",
    "\t\t\tsoma = soma + i\n",
    "\n",
    "else:\n",
    "\tfor i in range(x + 1, y):\n",
    "\t\tif (i % 2) != 0:\n",
    "\t\t\tsoma = soma + i\n",
    "print(soma)\n"
   ]
  }
 ],
 "metadata": {
  "kernelspec": {
   "display_name": "Python 3",
   "language": "python",
   "name": "python3"
  },
  "language_info": {
   "codemirror_mode": {
    "name": "ipython",
    "version": 3
   },
   "file_extension": ".py",
   "mimetype": "text/x-python",
   "name": "python",
   "nbconvert_exporter": "python",
   "pygments_lexer": "ipython3",
   "version": "3.11.5"
  }
 },
 "nbformat": 4,
 "nbformat_minor": 2
}
