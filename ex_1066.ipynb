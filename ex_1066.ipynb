{
 "cells": [
  {
   "cell_type": "code",
   "execution_count": 8,
   "metadata": {},
   "outputs": [
    {
     "name": "stdout",
     "output_type": "stream",
     "text": [
      "3 valor(es) par(es)\n",
      "2 valor(es) impar(es)\n",
      "1 valor(es) positivo(s)\n",
      "3 valor(es) negativo(s)\n"
     ]
    }
   ],
   "source": [
    "pares = 0\n",
    "impares = 0\n",
    "positivos = 0\n",
    "negativos = 0\n",
    "for i in range(5):\n",
    "    valor = float(input())\n",
    "    if valor % 2 == 0:\n",
    "        pares += 1\n",
    "    if valor % 2 == 1:\n",
    "        impares += 1\n",
    "    if valor > 0:\n",
    "        positivos += 1\n",
    "    if valor < 0:\n",
    "        negativos += 1\n",
    "\n",
    "print(f'{pares} valor(es) par(es)')\n",
    "print(f'{impares} valor(es) impar(es)')\n",
    "print(f'{positivos} valor(es) positivo(s)')\n",
    "print(f'{negativos} valor(es) negativo(s)')\n",
    "\n",
    "\n"
   ]
  }
 ],
 "metadata": {
  "kernelspec": {
   "display_name": "Python 3",
   "language": "python",
   "name": "python3"
  },
  "language_info": {
   "codemirror_mode": {
    "name": "ipython",
    "version": 3
   },
   "file_extension": ".py",
   "mimetype": "text/x-python",
   "name": "python",
   "nbconvert_exporter": "python",
   "pygments_lexer": "ipython3",
   "version": "3.11.5"
  }
 },
 "nbformat": 4,
 "nbformat_minor": 2
}
