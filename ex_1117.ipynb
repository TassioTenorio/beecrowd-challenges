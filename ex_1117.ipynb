{
 "cells": [
  {
   "cell_type": "code",
   "execution_count": 4,
   "metadata": {},
   "outputs": [
    {
     "name": "stdout",
     "output_type": "stream",
     "text": [
      "nota invalida\n",
      "nota invalida\n"
     ]
    }
   ],
   "source": [
    "\n",
    "nota = 0\n",
    "cont = 0\n",
    "while True:\n",
    "\tschool_grade1 = float(input())\n",
    "\t\n",
    "\tif school_grade1 > 10 or school_grade1 < 0:\n",
    "\t\tprint('nota invalida')\n",
    "\t\tcontinue\n",
    "\t\n",
    "\tschool_grade2 = float(input())\n",
    "\tif school_grade2 > 10 or school_grade2 < 0:\n",
    "\t\tprint('nota invalida')\n",
    "\t\tcontinue\n",
    "\telse:\n",
    "\t\tmedia = (school_grade1 + school_grade2)/2\n",
    "\t\tprint(f'media = {media}')\n",
    "\t\tbreak"
   ]
  }
 ],
 "metadata": {
  "kernelspec": {
   "display_name": "Python 3",
   "language": "python",
   "name": "python3"
  },
  "language_info": {
   "codemirror_mode": {
    "name": "ipython",
    "version": 3
   },
   "file_extension": ".py",
   "mimetype": "text/x-python",
   "name": "python",
   "nbconvert_exporter": "python",
   "pygments_lexer": "ipython3",
   "version": "3.11.5"
  }
 },
 "nbformat": 4,
 "nbformat_minor": 2
}
