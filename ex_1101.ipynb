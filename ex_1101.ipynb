{
 "cells": [
  {
   "cell_type": "code",
   "execution_count": 28,
   "metadata": {},
   "outputs": [
    {
     "name": "stdout",
     "output_type": "stream",
     "text": [
      "4 5 6  Sum=15\n",
      "2 3 4 5  Sum=14\n",
      "2 3 4 5 6 7 8  Sum=35\n",
      "2 3 4 5 6 7 8  Sum=35\n",
      "2 3 4 5 6 7 8  Sum=35\n",
      "4 5 6 7 8  Sum=30\n"
     ]
    },
    {
     "ename": "ValueError",
     "evalue": "min() arg is an empty sequence",
     "output_type": "error",
     "traceback": [
      "\u001b[1;31m---------------------------------------------------------------------------\u001b[0m",
      "\u001b[1;31mValueError\u001b[0m                                Traceback (most recent call last)",
      "\u001b[1;32mc:\\Users\\Tassio\\Desktop\\beecrownd\\beecrowd-challenges\\ex_1101.ipynb Cell 1\u001b[0m line \u001b[0;36m4\n\u001b[0;32m      <a href='vscode-notebook-cell:/c%3A/Users/Tassio/Desktop/beecrownd/beecrowd-challenges/ex_1101.ipynb#W0sZmlsZQ%3D%3D?line=0'>1</a>\u001b[0m \u001b[39mwhile\u001b[39;00m \u001b[39mTrue\u001b[39;00m:\n\u001b[0;32m      <a href='vscode-notebook-cell:/c%3A/Users/Tassio/Desktop/beecrownd/beecrowd-challenges/ex_1101.ipynb#W0sZmlsZQ%3D%3D?line=1'>2</a>\u001b[0m \tvalores \u001b[39m=\u001b[39m \u001b[39minput\u001b[39m()\u001b[39m.\u001b[39msplit()\n\u001b[1;32m----> <a href='vscode-notebook-cell:/c%3A/Users/Tassio/Desktop/beecrownd/beecrowd-challenges/ex_1101.ipynb#W0sZmlsZQ%3D%3D?line=3'>4</a>\u001b[0m \tb \u001b[39m=\u001b[39m \u001b[39mmin\u001b[39;49m(valores)\n\u001b[0;32m      <a href='vscode-notebook-cell:/c%3A/Users/Tassio/Desktop/beecrownd/beecrowd-challenges/ex_1101.ipynb#W0sZmlsZQ%3D%3D?line=4'>5</a>\u001b[0m \ta \u001b[39m=\u001b[39m \u001b[39mmax\u001b[39m(valores)\n\u001b[0;32m      <a href='vscode-notebook-cell:/c%3A/Users/Tassio/Desktop/beecrownd/beecrowd-challenges/ex_1101.ipynb#W0sZmlsZQ%3D%3D?line=5'>6</a>\u001b[0m \ta \u001b[39m=\u001b[39m \u001b[39mint\u001b[39m(valores[\u001b[39m0\u001b[39m])\n",
      "\u001b[1;31mValueError\u001b[0m: min() arg is an empty sequence"
     ]
    }
   ],
   "source": [
    "\n",
    "\n",
    "while True:\n",
    "\tvalores = input().split()\n",
    "\t\n",
    "\tb = min(valores)\n",
    "\ta = max(valores)\n",
    "\ta = int(valores[0])\n",
    "\tb = int(valores[1])\n",
    "\t\n",
    "\n",
    "\tif a <= 0 or b <= 0:\n",
    "\t\tbreak\n",
    "\t\n",
    "\tnumbers = ''\n",
    "\tsum_numbers = 0\n",
    "\t\n",
    "\tfor i in range(b, a+1):\n",
    "\t\tnumbers += str(i) + ' '\n",
    "\t\tsum_numbers += i\n",
    "\tfor i in range(a, b+1):\n",
    "\t\tnumbers += str(i) + ' '\n",
    "\t\tsum_numbers += i\n",
    "\n",
    "\tprint(f'{numbers} Sum={sum_numbers}')\n"
   ]
  },
  {
   "cell_type": "code",
   "execution_count": 27,
   "metadata": {},
   "outputs": [
    {
     "name": "stdout",
     "output_type": "stream",
     "text": [
      "5 6 7 Sum=18\n"
     ]
    },
    {
     "ename": "ValueError",
     "evalue": "invalid literal for int() with base 10: '0]'",
     "output_type": "error",
     "traceback": [
      "\u001b[1;31m---------------------------------------------------------------------------\u001b[0m",
      "\u001b[1;31mValueError\u001b[0m                                Traceback (most recent call last)",
      "\u001b[1;32mc:\\Users\\Tassio\\Desktop\\beecrownd\\beecrowd-challenges\\ex_1101.ipynb Cell 2\u001b[0m line \u001b[0;36m2\n\u001b[0;32m      <a href='vscode-notebook-cell:/c%3A/Users/Tassio/Desktop/beecrownd/beecrowd-challenges/ex_1101.ipynb#W1sZmlsZQ%3D%3D?line=0'>1</a>\u001b[0m \u001b[39mwhile\u001b[39;00m \u001b[39mTrue\u001b[39;00m:\n\u001b[1;32m----> <a href='vscode-notebook-cell:/c%3A/Users/Tassio/Desktop/beecrownd/beecrowd-challenges/ex_1101.ipynb#W1sZmlsZQ%3D%3D?line=1'>2</a>\u001b[0m \tvalores \u001b[39m=\u001b[39m [\u001b[39mint\u001b[39;49m(x) \u001b[39mfor\u001b[39;49;00m x \u001b[39min\u001b[39;49;00m \u001b[39minput\u001b[39;49m()\u001b[39m.\u001b[39;49msplit()]\n\u001b[0;32m      <a href='vscode-notebook-cell:/c%3A/Users/Tassio/Desktop/beecrownd/beecrowd-challenges/ex_1101.ipynb#W1sZmlsZQ%3D%3D?line=3'>4</a>\u001b[0m \tm \u001b[39m=\u001b[39m \u001b[39mmin\u001b[39m(valores)\n\u001b[0;32m      <a href='vscode-notebook-cell:/c%3A/Users/Tassio/Desktop/beecrownd/beecrowd-challenges/ex_1101.ipynb#W1sZmlsZQ%3D%3D?line=4'>5</a>\u001b[0m \tn \u001b[39m=\u001b[39m \u001b[39mmax\u001b[39m(valores)\n",
      "\u001b[1;32mc:\\Users\\Tassio\\Desktop\\beecrownd\\beecrowd-challenges\\ex_1101.ipynb Cell 2\u001b[0m line \u001b[0;36m2\n\u001b[0;32m      <a href='vscode-notebook-cell:/c%3A/Users/Tassio/Desktop/beecrownd/beecrowd-challenges/ex_1101.ipynb#W1sZmlsZQ%3D%3D?line=0'>1</a>\u001b[0m \u001b[39mwhile\u001b[39;00m \u001b[39mTrue\u001b[39;00m:\n\u001b[1;32m----> <a href='vscode-notebook-cell:/c%3A/Users/Tassio/Desktop/beecrownd/beecrowd-challenges/ex_1101.ipynb#W1sZmlsZQ%3D%3D?line=1'>2</a>\u001b[0m \tvalores \u001b[39m=\u001b[39m [\u001b[39mint\u001b[39;49m(x) \u001b[39mfor\u001b[39;00m x \u001b[39min\u001b[39;00m \u001b[39minput\u001b[39m()\u001b[39m.\u001b[39msplit()]\n\u001b[0;32m      <a href='vscode-notebook-cell:/c%3A/Users/Tassio/Desktop/beecrownd/beecrowd-challenges/ex_1101.ipynb#W1sZmlsZQ%3D%3D?line=3'>4</a>\u001b[0m \tm \u001b[39m=\u001b[39m \u001b[39mmin\u001b[39m(valores)\n\u001b[0;32m      <a href='vscode-notebook-cell:/c%3A/Users/Tassio/Desktop/beecrownd/beecrowd-challenges/ex_1101.ipynb#W1sZmlsZQ%3D%3D?line=4'>5</a>\u001b[0m \tn \u001b[39m=\u001b[39m \u001b[39mmax\u001b[39m(valores)\n",
      "\u001b[1;31mValueError\u001b[0m: invalid literal for int() with base 10: '0]'"
     ]
    }
   ],
   "source": [
    "while True:\n",
    "\tvalores = [int(x) for x in input().split()]\n",
    "\n",
    "\tm = min(valores)\n",
    "\tn = max(valores)\n",
    "\n",
    "\tif m <= 0:\n",
    "\t\tbreak\n",
    "\n",
    "\ttexto = \"\"\n",
    "\tsoma = 0\n",
    "\tfor i in range(m, n + 1):\n",
    "\t\tsoma += i\n",
    "\t\ttexto += str(i) + ' '\n",
    "\tprint(\"{}Sum={}\".format(texto, soma))"
   ]
  }
 ],
 "metadata": {
  "kernelspec": {
   "display_name": "Python 3",
   "language": "python",
   "name": "python3"
  },
  "language_info": {
   "codemirror_mode": {
    "name": "ipython",
    "version": 3
   },
   "file_extension": ".py",
   "mimetype": "text/x-python",
   "name": "python",
   "nbconvert_exporter": "python",
   "pygments_lexer": "ipython3",
   "version": "3.11.5"
  }
 },
 "nbformat": 4,
 "nbformat_minor": 2
}
