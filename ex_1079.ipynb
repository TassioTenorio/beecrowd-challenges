{
 "cells": [
  {
   "cell_type": "code",
   "execution_count": 8,
   "metadata": {},
   "outputs": [
    {
     "name": "stdout",
     "output_type": "stream",
     "text": [
      "5.7\n",
      "6.3\n",
      "9.3\n"
     ]
    }
   ],
   "source": [
    "valor = int(input())\n",
    "\n",
    "for i in range(valor):\n",
    "\tvl1, vl2, vl3 = map(float, input().split())\n",
    "\tmedia_ponderada = (vl1 * 2 + vl2 * 3 + vl3 * 5) / 10\n",
    "\tprint(f'{media_ponderada:.1f}') \n",
    "\n",
    "# h2, m2, s2 = map(int, input().split(\":\"))"
   ]
  },
  {
   "cell_type": "code",
   "execution_count": null,
   "metadata": {},
   "outputs": [],
   "source": []
  }
 ],
 "metadata": {
  "kernelspec": {
   "display_name": "Python 3",
   "language": "python",
   "name": "python3"
  },
  "language_info": {
   "codemirror_mode": {
    "name": "ipython",
    "version": 3
   },
   "file_extension": ".py",
   "mimetype": "text/x-python",
   "name": "python",
   "nbconvert_exporter": "python",
   "pygments_lexer": "ipython3",
   "version": "3.11.5"
  }
 },
 "nbformat": 4,
 "nbformat_minor": 2
}
