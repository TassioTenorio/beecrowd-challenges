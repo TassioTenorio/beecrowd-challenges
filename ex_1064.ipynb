{
 "cells": [
  {
   "cell_type": "code",
   "execution_count": 10,
   "metadata": {},
   "outputs": [
    {
     "name": "stdout",
     "output_type": "stream",
     "text": [
      "4 valores posivos\n",
      "7.4\n"
     ]
    }
   ],
   "source": [
    "lista_positivos = []\n",
    "positivos = 0\n",
    "\n",
    "for quatidade in range(6):\n",
    "    valor = float(input())\n",
    "    if valor >= 0:\n",
    "        lista_positivos.append(valor)\n",
    "        positivos += 1\n",
    "        total = (sum(lista_positivos))\n",
    "        media = total / len(lista_positivos)\n",
    "print(f'{positivos} valores posivos')\n",
    "print(f'{media:.1f}')\n",
    "        \n",
    "                                   \n"
   ]
  }
 ],
 "metadata": {
  "kernelspec": {
   "display_name": "Python 3",
   "language": "python",
   "name": "python3"
  },
  "language_info": {
   "codemirror_mode": {
    "name": "ipython",
    "version": 3
   },
   "file_extension": ".py",
   "mimetype": "text/x-python",
   "name": "python",
   "nbconvert_exporter": "python",
   "pygments_lexer": "ipython3",
   "version": "3.11.5"
  }
 },
 "nbformat": 4,
 "nbformat_minor": 2
}
