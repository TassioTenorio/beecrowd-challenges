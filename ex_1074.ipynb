{
 "cells": [
  {
   "cell_type": "code",
   "execution_count": 5,
   "metadata": {},
   "outputs": [
    {
     "name": "stdout",
     "output_type": "stream",
     "text": [
      "EVEN POSITIVE\n",
      "ODD NEGATIVE\n",
      "NULL\n",
      "EVEN NEGATIVE\n"
     ]
    }
   ],
   "source": [
    "valor = int(input('Digite quantas vezes o programa vai se repetir'))\n",
    "\n",
    "for i in range(valor):\n",
    "\tvalor2 = int(input('Digite um valor'))\n",
    "\tif valor2 == 0:\n",
    "\t\tprint('NULL')\n",
    "\tif valor2 % 2 == 0:\n",
    "\t\tif valor2 > 0:\n",
    "\t\t\tprint('EVEN POSITIVE')\n",
    "\t\telif valor2 < 0:\n",
    "\t\t\tprint('EVEN NEGATIVE')\n",
    "\telif valor2 % 2 != 0:\n",
    "\t\tif valor2 > 0:\n",
    "\t\t\tprint('ODD POSITIVE')\n",
    "\t\telif valor2 < 0:\n",
    "\t\t\tprint('ODD NEGATIVE')\n",
    "\t\n"
   ]
  }
 ],
 "metadata": {
  "kernelspec": {
   "display_name": "Python 3",
   "language": "python",
   "name": "python3"
  },
  "language_info": {
   "codemirror_mode": {
    "name": "ipython",
    "version": 3
   },
   "file_extension": ".py",
   "mimetype": "text/x-python",
   "name": "python",
   "nbconvert_exporter": "python",
   "pygments_lexer": "ipython3",
   "version": "3.11.5"
  }
 },
 "nbformat": 4,
 "nbformat_minor": 2
}
