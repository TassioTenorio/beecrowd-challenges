{
 "cells": [
  {
   "cell_type": "markdown",
   "metadata": {},
   "source": [
    "beecrowd | 1131\n",
    "Grenais\n",
    "Adaptado por Neilor Tonin, URI  Brasil\n",
    "\n",
    "Timelimit: 1\n",
    "A Federação Gaúcha de Futebol contratou você para escrever um programa para fazer uma estatística do resultado de vários GRENAIS. Escreva um programa para ler o número de gols marcados pelo Inter e pelo Grêmio em um GRENAL. Logo após escrever a mensagem \"Novo grenal (1-sim 2-nao)\" e solicitar uma resposta. Se a resposta for 1, o algoritmo deve ser executado novamente solicitando o número de gols marcados pelos times em uma nova partida, caso contrário deve ser encerrado imprimindo:\n",
    "\n",
    "- Quantos GRENAIS fizeram parte da estatística.\n",
    "- O número de vitórias do Inter.\n",
    "- O número de vitórias do Grêmio.\n",
    "- O número de Empates.\n",
    "- Uma mensagem indicando qual o time que venceu o maior número de GRENAIS (ou \"Nao houve vencedor\", caso termine empatado).\n",
    "\n",
    "Entrada\n",
    "O arquivo de entrada contém 2 valores inteiros, correspondentes aos gols marcados pelo Inter e pelo Grêmio respectivamente. Em seguida háverá um inteiro (1 ou 2), correspondente à repetição do programa.\n",
    "\n",
    "Saída\n",
    "Após cada leitura dos gols, deve ser impressa a mensagem \"Novo grenal (1-sim 2-nao)\". Quando o algoritmo for encerrado devem ser mostradas as estatísticas conforme a descrição apresentada acima. Obs: a palavra \"Gremio\" deve ser impressa sem acento, conforme o exemplo abaixo.\n",
    "\n",
    "Exemplo de Entrada\tExemplo de Saída\n",
    "3 2\n",
    "1\n",
    "2 3\n",
    "1\n",
    "3 1\n",
    "2\n",
    "\n",
    "Novo grenal (1-sim 2-nao)\n",
    "Novo grenal (1-sim 2-nao)\n",
    "Novo grenal (1-sim 2-nao)\n",
    "3 grenais\n",
    "Inter:2\n",
    "Gremio:1\n",
    "Empates:0\n",
    "Inter venceu mais"
   ]
  },
  {
   "cell_type": "code",
   "execution_count": 18,
   "metadata": {},
   "outputs": [
    {
     "name": "stdout",
     "output_type": "stream",
     "text": [
      "Novo grenal (1-sim 2-nao)\n",
      "Novo grenal (1-sim 2-nao)\n",
      "Novo grenal (1-sim 2-nao)\n",
      "3 grenais\n",
      "Inter: 3\n",
      "Gremio: 0\n",
      "Empates: 0\n",
      "Inter venceu mais\n"
     ]
    }
   ],
   "source": [
    "quantity = 1\n",
    "tied = 0\n",
    "inter_victory = 0\n",
    "gremio_victore = 0\n",
    "while True:\n",
    "\tgoals_inter, goals_gremio = map(int,input().split())\n",
    "\tif goals_inter == goals_gremio:\n",
    "\t\ttied +=1\n",
    "\tif goals_inter > goals_gremio:\n",
    "\t\tinter_victory += 1\n",
    "\tif goals_gremio > goals_inter:\n",
    "\t\tgremio_victore += 1\t\n",
    "\tprint('Novo grenal (1-sim 2-nao)')\n",
    "\toption = int(input())\n",
    "\tif option == 1:\n",
    "\t\tquantity += 1\n",
    "\t\tcontinue\n",
    "\telse:\n",
    "\t\tbreak\n",
    "\n",
    "print('{} grenais'.format(quantity))\t\n",
    "print('Inter: {}'.format(inter_victory))\n",
    "print('Gremio: {}'.format(gremio_victore))\n",
    "print('Empates: {}'.format(tied))\n",
    "if inter_victory > gremio_victore:\n",
    "\tprint('Inter venceu mais')\n",
    "elif gremio_victore > inter_victory:\n",
    "\tprint('Gremio venceu mais')\n",
    "else:\n",
    "\tprint('Todos os jogos deram impates')\n",
    "\t\t\n",
    "\t"
   ]
  }
 ],
 "metadata": {
  "kernelspec": {
   "display_name": "Python 3",
   "language": "python",
   "name": "python3"
  },
  "language_info": {
   "codemirror_mode": {
    "name": "ipython",
    "version": 3
   },
   "file_extension": ".py",
   "mimetype": "text/x-python",
   "name": "python",
   "nbconvert_exporter": "python",
   "pygments_lexer": "ipython3",
   "version": "3.11.5"
  }
 },
 "nbformat": 4,
 "nbformat_minor": 2
}
