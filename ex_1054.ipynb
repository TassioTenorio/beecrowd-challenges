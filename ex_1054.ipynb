{
 "cells": [
  {
   "cell_type": "code",
   "execution_count": 7,
   "metadata": {},
   "outputs": [
    {
     "name": "stdout",
     "output_type": "stream",
     "text": [
      "4 valores positivos\n"
     ]
    }
   ],
   "source": [
    "positivos = []\n",
    "negativos = []\n",
    "for i in range(6):\n",
    "    valor = float(input('Digite 6 valores negativos ou positivos'))\n",
    "    if valor < 0:\n",
    "        negativos.append(valor)\n",
    "    elif valor > 0:\n",
    "        positivos.append(valor)\n",
    "    \n",
    "print('{} valores positivos'.format(len(positivos)))\n"
   ]
  }
 ],
 "metadata": {
  "kernelspec": {
   "display_name": "Python 3",
   "language": "python",
   "name": "python3"
  },
  "language_info": {
   "codemirror_mode": {
    "name": "ipython",
    "version": 3
   },
   "file_extension": ".py",
   "mimetype": "text/x-python",
   "name": "python",
   "nbconvert_exporter": "python",
   "pygments_lexer": "ipython3",
   "version": "3.11.5"
  }
 },
 "nbformat": 4,
 "nbformat_minor": 2
}
