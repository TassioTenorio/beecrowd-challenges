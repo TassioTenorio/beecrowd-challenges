{
 "cells": [
  {
   "cell_type": "code",
   "execution_count": 47,
   "metadata": {},
   "outputs": [
    {
     "name": "stdout",
     "output_type": "stream",
     "text": [
      "2 in\n",
      "3 out\n"
     ]
    }
   ],
   "source": [
    "valor = int(input('Digite a quantidade de numeros que gostaria de digitar depois'))\n",
    "\n",
    "dentro_do_intervalo = []\n",
    "fora_do_intervalo = []\n",
    "for i in range(valor):\n",
    "    valor2 = int(input('Digite o valor'))\n",
    "    if valor2 >= 10 and valor2 <= 20:\n",
    "        dentro_do_intervalo.append(valor2)\n",
    "    else:\n",
    "        fora_do_intervalo.append(valor2)\n",
    "\n",
    "print(len(dentro_do_intervalo), 'in')\n",
    "print(len(fora_do_intervalo), 'out' )"
   ]
  },
  {
   "cell_type": "code",
   "execution_count": 19,
   "metadata": {},
   "outputs": [
    {
     "name": "stdout",
     "output_type": "stream",
     "text": [
      "10\n",
      "11\n",
      "12\n",
      "13\n",
      "14\n",
      "15\n",
      "16\n",
      "17\n",
      "18\n",
      "19\n"
     ]
    }
   ],
   "source": [
    "for i in range(10,20):\n",
    "    print(i)"
   ]
  }
 ],
 "metadata": {
  "kernelspec": {
   "display_name": "Python 3",
   "language": "python",
   "name": "python3"
  },
  "language_info": {
   "codemirror_mode": {
    "name": "ipython",
    "version": 3
   },
   "file_extension": ".py",
   "mimetype": "text/x-python",
   "name": "python",
   "nbconvert_exporter": "python",
   "pygments_lexer": "ipython3",
   "version": "3.11.5"
  }
 },
 "nbformat": 4,
 "nbformat_minor": 2
}
