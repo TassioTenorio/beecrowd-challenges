{
 "cells": [
  {
   "cell_type": "code",
   "execution_count": 4,
   "metadata": {},
   "outputs": [
    {
     "name": "stdout",
     "output_type": "stream",
     "text": [
      "I=0 J=1\n",
      "I=0 J=2\n",
      "I=0 J=3\n",
      "I=0.2 J=1.2\n",
      "I=0.2 J=2.2\n",
      "I=0.2 J=3.2\n",
      "I=0.4 J=1.4\n",
      "I=0.4 J=2.4\n",
      "I=0.4 J=3.4\n",
      "I=0.6 J=1.6\n",
      "I=0.6 J=2.6\n",
      "I=0.6 J=3.6\n",
      "I=0.8 J=1.8\n",
      "I=0.8 J=2.8\n",
      "I=0.8 J=3.8\n",
      "I=1 J=2\n",
      "I=1 J=3\n",
      "I=1 J=4\n",
      "I=1.2 J=2.2\n",
      "I=1.2 J=3.2\n",
      "I=1.2 J=4.2\n",
      "I=1.4 J=2.4\n",
      "I=1.4 J=3.4\n",
      "I=1.4 J=4.4\n",
      "I=1.6 J=2.6\n",
      "I=1.6 J=3.6\n",
      "I=1.6 J=4.6\n",
      "I=1.8 J=2.8\n",
      "I=1.8 J=3.8\n",
      "I=1.8 J=4.8\n",
      "I=2 J=3\n",
      "I=2 J=4\n",
      "I=2 J=5\n"
     ]
    }
   ],
   "source": [
    "i = 0\n",
    "j = 1\n",
    "value = 0\n",
    "temp = 0\n",
    "temp2 = 0\n",
    "while (i <= 2):\n",
    "    if (temp2 == 0):\n",
    "        print(\"I=%.0f J=%.0f\" % (i, j))\n",
    "    else:\n",
    "        print(\"I=%.1f J=%.1f\" % (i, j))\n",
    "\n",
    "    temp += 1\n",
    "    if (temp == 3):\n",
    "        i += 0.2\n",
    "        value += 0.2\n",
    "        j = value\n",
    "        temp = 0\n",
    "        temp2 += 1\n",
    "\n",
    "    if(temp2 == 5):\n",
    "        temp2 = 0\n",
    "    j += 1\n"
   ]
  },
  {
   "cell_type": "markdown",
   "metadata": {},
   "source": []
  }
 ],
 "metadata": {
  "kernelspec": {
   "display_name": "Python 3",
   "language": "python",
   "name": "python3"
  },
  "language_info": {
   "codemirror_mode": {
    "name": "ipython",
    "version": 3
   },
   "file_extension": ".py",
   "mimetype": "text/x-python",
   "name": "python",
   "nbconvert_exporter": "python",
   "pygments_lexer": "ipython3",
   "version": "3.11.5"
  }
 },
 "nbformat": 4,
 "nbformat_minor": 2
}
